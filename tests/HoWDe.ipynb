{
 "cells": [
  {
   "cell_type": "markdown",
   "id": "5b580359-84a6-474a-bcdf-1f098da8e87f",
   "metadata": {},
   "source": [
    "# __HoWDe__ \n",
    "### _a Home and Work location Detection algorithm for GPS data analytics_\n",
    "\n",
    "This notebook is intended to work as a brief tutorial on how to user \"HoWDe\". It leverages functions contained in the \"HoWDe_utils.py\" file (source code). "
   ]
  },
  {
   "cell_type": "code",
   "execution_count": 1,
   "id": "b4dd5a79-6d0a-4463-844d-f995694edcdb",
   "metadata": {},
   "outputs": [],
   "source": [
    "%config InlineBackend.figure_format = 'retina'\n",
    "# # NB: Home and Work location labelling\n",
    "# 1. Load pre-computed stop locations (in our case computed using infostop)\n",
    "# 2. Assigning labels to stop locations: Home (\"H\"), Work (\"W\"), and Other (\"O\")\n",
    "from howde import *"
   ]
  },
  {
   "cell_type": "code",
   "execution_count": 3,
   "id": "b90caa6b-93dd-4ce3-b10e-f9e1974bd559",
   "metadata": {},
   "outputs": [],
   "source": [
    "HW_PATH = None\n",
    "HW_PATH = '/Users/lorentz/JupyterDir/20-04_COVID_all/World_Bank/02-home_work_detection/data/stop_location_results/veraset_location_clustered/'\n",
    "\n",
    "\n",
    "try: assert type(HW_PATH) is str\n",
    "except: print(\"Path to data is missing.\")"
   ]
  },
  {
   "cell_type": "markdown",
   "id": "386c43d5-5143-4a76-9515-f674297e6962",
   "metadata": {},
   "source": [
    "#### 1. Use HoWDe providing pre-loaded data and Spark Session"
   ]
  },
  {
   "cell_type": "code",
   "execution_count": 5,
   "id": "7e8db261-bb1f-4a27-b456-e9ff9daffa37",
   "metadata": {
    "scrolled": true
   },
   "outputs": [
    {
     "name": "stdout",
     "output_type": "stream",
     "text": [
      "HoWDe Labelling: computing LABs ...\n"
     ]
    },
    {
     "ename": "TypeError",
     "evalue": "'float' object is not iterable",
     "output_type": "error",
     "traceback": [
      "\u001b[0;31m---------------------------------------------------------------------------\u001b[0m",
      "\u001b[0;31mTypeError\u001b[0m                                 Traceback (most recent call last)",
      "Cell \u001b[0;32mIn[5], line 25\u001b[0m\n\u001b[1;32m     22\u001b[0m \u001b[38;5;66;03m# Load DATA\u001b[39;00m\n\u001b[1;32m     23\u001b[0m input_data \u001b[38;5;241m=\u001b[39m spark\u001b[38;5;241m.\u001b[39mread\u001b[38;5;241m.\u001b[39mformat(\u001b[38;5;124m\"\u001b[39m\u001b[38;5;124mparquet\u001b[39m\u001b[38;5;124m\"\u001b[39m)\u001b[38;5;241m.\u001b[39mload(HW_PATH, pathGlobFilter\u001b[38;5;241m=\u001b[39m\u001b[38;5;124m\"\u001b[39m\u001b[38;5;124m*.parquet\u001b[39m\u001b[38;5;124m\"\u001b[39m)\n\u001b[0;32m---> 25\u001b[0m res1 \u001b[38;5;241m=\u001b[39m \u001b[43mHoWDe_labelling\u001b[49m\u001b[43m(\u001b[49m\u001b[43minput_data\u001b[49m\u001b[43m \u001b[49m\u001b[38;5;241;43m=\u001b[39;49m\u001b[43m \u001b[49m\u001b[43minput_data\u001b[49m\u001b[43m,\u001b[49m\u001b[43m \u001b[49m\u001b[43mspark\u001b[49m\u001b[38;5;241;43m=\u001b[39;49m\u001b[43mspark\u001b[49m\u001b[43m,\u001b[49m\u001b[43m \u001b[49m\u001b[43mHW_PATH\u001b[49m\u001b[38;5;241;43m=\u001b[39;49m\u001b[38;5;124;43m'\u001b[39;49m\u001b[38;5;124;43m./\u001b[39;49m\u001b[38;5;124;43m'\u001b[39;49m\u001b[43m,\u001b[49m\n\u001b[1;32m     26\u001b[0m \u001b[43m                    \u001b[49m\u001b[43mSAVE_PATH\u001b[49m\u001b[38;5;241;43m=\u001b[39;49m\u001b[38;5;28;43;01mNone\u001b[39;49;00m\u001b[43m,\u001b[49m\u001b[43m \u001b[49m\u001b[43mSAVE_NAME\u001b[49m\u001b[38;5;241;43m=\u001b[39;49m\u001b[38;5;124;43m'\u001b[39;49m\u001b[38;5;124;43m'\u001b[39;49m\u001b[43m,\u001b[49m\u001b[43m \u001b[49m\u001b[43msave_multiple\u001b[49m\u001b[38;5;241;43m=\u001b[39;49m\u001b[38;5;28;43;01mFalse\u001b[39;49;00m\u001b[43m,\u001b[49m\n\u001b[1;32m     27\u001b[0m \u001b[43m                    \u001b[49m\u001b[43medit_config_default\u001b[49m\u001b[38;5;241;43m=\u001b[39;49m\u001b[38;5;28;43;01mNone\u001b[39;49;00m\u001b[43m,\u001b[49m\u001b[43m \u001b[49m\n\u001b[1;32m     28\u001b[0m \u001b[43m                    \u001b[49m\u001b[43mrange_window\u001b[49m\u001b[38;5;241;43m=\u001b[39;49m\u001b[38;5;241;43m42\u001b[39;49m\u001b[43m,\u001b[49m\u001b[43m \u001b[49m\u001b[43mdhn\u001b[49m\u001b[38;5;241;43m=\u001b[39;49m\u001b[38;5;241;43m6\u001b[39;49m\u001b[43m,\u001b[49m\n\u001b[1;32m     29\u001b[0m \u001b[43m                    \u001b[49m\u001b[43mdn_H\u001b[49m\u001b[38;5;241;43m=\u001b[39;49m\u001b[43m[\u001b[49m\u001b[38;5;241;43m0.4\u001b[39;49m\u001b[43m,\u001b[49m\u001b[38;5;241;43m0.6\u001b[39;49m\u001b[43m]\u001b[49m\u001b[43m,\u001b[49m\u001b[43m \u001b[49m\u001b[43mdn_W\u001b[49m\u001b[38;5;241;43m=\u001b[39;49m\u001b[38;5;241;43m0.8\u001b[39;49m\u001b[43m,\u001b[49m\n\u001b[1;32m     30\u001b[0m \u001b[43m                    \u001b[49m\u001b[43mhf_H\u001b[49m\u001b[38;5;241;43m=\u001b[39;49m\u001b[38;5;241;43m0.2\u001b[39;49m\u001b[43m,\u001b[49m\u001b[43m \u001b[49m\u001b[43mhf_W\u001b[49m\u001b[38;5;241;43m=\u001b[39;49m\u001b[38;5;241;43m0.2\u001b[39;49m\u001b[43m,\u001b[49m\n\u001b[1;32m     31\u001b[0m \u001b[43m                    \u001b[49m\u001b[43mdf_W\u001b[49m\u001b[38;5;241;43m=\u001b[39;49m\u001b[38;5;241;43m0.2\u001b[39;49m\u001b[43m,\u001b[49m\n\u001b[1;32m     32\u001b[0m \u001b[43m                    \u001b[49m\u001b[43mdriver_memory\u001b[49m\u001b[43m \u001b[49m\u001b[38;5;241;43m=\u001b[39;49m\u001b[43m \u001b[49m\u001b[38;5;241;43m250\u001b[39;49m\n\u001b[1;32m     33\u001b[0m \u001b[43m                   \u001b[49m\u001b[43m)\u001b[49m\n\u001b[1;32m     35\u001b[0m res1\u001b[38;5;241m.\u001b[39mprintSchema()\n",
      "File \u001b[0;32m/opt/anaconda3/envs/HoWDe/lib/python3.12/site-packages/howde/HoWDe_core.py:264\u001b[0m, in \u001b[0;36mHoWDe_labelling\u001b[0;34m(input_data, spark, HW_PATH, SAVE_PATH, SAVE_NAME, save_multiple, edit_config_default, range_window, dhn, dn_H, dn_W, hf_H, hf_W, df_W, stops_output, verbose, driver_memory)\u001b[0m\n\u001b[1;32m    261\u001b[0m \u001b[38;5;66;03m# start computations\u001b[39;00m\n\u001b[1;32m    262\u001b[0m \u001b[38;5;28mprint\u001b[39m(\u001b[38;5;124m\"\u001b[39m\u001b[38;5;124mHoWDe Labelling: computing LABs ...\u001b[39m\u001b[38;5;124m\"\u001b[39m)\n\u001b[1;32m    263\u001b[0m iters \u001b[38;5;241m=\u001b[39m \u001b[38;5;28mlist\u001b[39m(\n\u001b[0;32m--> 264\u001b[0m     \u001b[43mitertools\u001b[49m\u001b[38;5;241;43m.\u001b[39;49m\u001b[43mproduct\u001b[49m\u001b[43m(\u001b[49m\n\u001b[1;32m    265\u001b[0m \u001b[43m        \u001b[49m\u001b[43mrange_window\u001b[49m\u001b[43m,\u001b[49m\n\u001b[1;32m    266\u001b[0m \u001b[43m        \u001b[49m\u001b[43mdhn\u001b[49m\u001b[43m,\u001b[49m\n\u001b[1;32m    267\u001b[0m \u001b[43m        \u001b[49m\u001b[43mdn_H\u001b[49m\u001b[43m,\u001b[49m\n\u001b[1;32m    268\u001b[0m \u001b[43m        \u001b[49m\u001b[43mhf_H\u001b[49m\u001b[43m,\u001b[49m\n\u001b[1;32m    269\u001b[0m \u001b[43m        \u001b[49m\u001b[43mdn_W\u001b[49m\u001b[43m,\u001b[49m\n\u001b[1;32m    270\u001b[0m \u001b[43m        \u001b[49m\u001b[43mhf_W\u001b[49m\u001b[43m,\u001b[49m\n\u001b[1;32m    271\u001b[0m \u001b[43m        \u001b[49m\u001b[43mdf_W\u001b[49m\u001b[43m,\u001b[49m\n\u001b[1;32m    272\u001b[0m \u001b[43m    \u001b[49m\u001b[43m)\u001b[49m\n\u001b[1;32m    273\u001b[0m )\n\u001b[1;32m    274\u001b[0m \u001b[38;5;28;01mfor\u001b[39;00m rW, noneD, noneH, freqH, noneW, freqWh, freqWd \u001b[38;5;129;01min\u001b[39;00m tqdm(iters):\n\u001b[1;32m    275\u001b[0m     \u001b[38;5;66;03m## APPLY BY CONFIG TYPE\u001b[39;00m\n\u001b[1;32m    276\u001b[0m     config_ \u001b[38;5;241m=\u001b[39m config\u001b[38;5;241m.\u001b[39mcopy()\n",
      "\u001b[0;31mTypeError\u001b[0m: 'float' object is not iterable"
     ]
    }
   ],
   "source": [
    "#### Load DATA and PASS it to HoWDe\n",
    "import os\n",
    "from pyspark.sql.types import *\n",
    "from pyspark.sql import SparkSession\n",
    "import warnings\n",
    "warnings.filterwarnings(\"ignore\")\n",
    "\n",
    "# Set up Spark\n",
    "driver_memory=250\n",
    "packages = \"data/work/shared/tools/spark-avro_2.12-3.0.0.jar\"\n",
    "os.environ[\"PYSPARK_SUBMIT_ARGS\"] = \"--jars {0} pyspark-shell \".format(packages)\n",
    "spark = (SparkSession\n",
    "            .builder.master(\"local[50]\")\n",
    "            .config(\"spark.sql.files.ignoreCorruptFiles\", \"true\")\n",
    "            .config(\"spark.driver.memory\", f\"{driver_memory}g\")\n",
    "            .config(\"spark.executor.memory\", \"250g\")\n",
    "            .getOrCreate()\n",
    ")\n",
    "spark.conf.set(\"spark.sql.execution.arrow.pyspark.enabled\", \"true\")\n",
    "spark.sparkContext.setLogLevel(\"ERROR\")\n",
    "\n",
    "# Load DATA\n",
    "input_data = spark.read.format(\"parquet\").load(HW_PATH, pathGlobFilter=\"*.parquet\")\n",
    "\n",
    "res1 = HoWDe_labelling(input_data = input_data, spark=spark, HW_PATH='./',\n",
    "                    SAVE_PATH=None, SAVE_NAME='', save_multiple=False,\n",
    "                    edit_config_default=None, \n",
    "                    range_window=42, dhn=6,\n",
    "                    dn_H=[0.4,0.6], dn_W=0.8,\n",
    "                    hf_H=0.2, hf_W=0.2,\n",
    "                    df_W=0.2,\n",
    "                    driver_memory = 250\n",
    "                   )\n",
    "\n",
    "res1.printSchema()"
   ]
  },
  {
   "cell_type": "markdown",
   "id": "37e3f0e8-f6bd-49e0-9000-9f3dc122b6e6",
   "metadata": {},
   "source": [
    "#### 2. Use HoWDe in a self contained way (providing path to data and location to save)"
   ]
  },
  {
   "cell_type": "code",
   "execution_count": null,
   "id": "f249eb6d-de2f-4453-86d2-285060f191cd",
   "metadata": {
    "scrolled": true
   },
   "outputs": [],
   "source": [
    "### Let HoWDe load data \n",
    "res2 = HoWDe_labelling(input_data=None, spark=None, HW_PATH=HW_PATH,\n",
    "                    SAVE_PATH=None, SAVE_NAME='', save_multiple=False,\n",
    "                    edit_config_default=None, \n",
    "                    range_window=42, bnd_none_day=6,\n",
    "                    bnd_none_home=[0.4,0.6], bnd_none_work=0.8,\n",
    "                    range_freq_home=0.2, range_freq_work_h=0.2,\n",
    "                    range_freq_work_d=0.2,\n",
    "                    driver_memory = 250\n",
    "                   )\n",
    "res2.printSchema()"
   ]
  },
  {
   "cell_type": "code",
   "execution_count": null,
   "id": "3bd69994-3d2c-4f61-9147-90df69dc4a18",
   "metadata": {
    "scrolled": true
   },
   "outputs": [],
   "source": [
    "res2.show()\n"
   ]
  },
  {
   "cell_type": "code",
   "execution_count": null,
   "id": "f63e85c4-4bd9-4d72-8e94-51fa232624d0",
   "metadata": {},
   "outputs": [],
   "source": []
  }
 ],
 "metadata": {
  "kernelspec": {
   "display_name": "Python 3 (ipykernel)",
   "language": "python",
   "name": "python3"
  },
  "language_info": {
   "codemirror_mode": {
    "name": "ipython",
    "version": 3
   },
   "file_extension": ".py",
   "mimetype": "text/x-python",
   "name": "python",
   "nbconvert_exporter": "python",
   "pygments_lexer": "ipython3",
   "version": "3.12.8"
  }
 },
 "nbformat": 4,
 "nbformat_minor": 5
}
