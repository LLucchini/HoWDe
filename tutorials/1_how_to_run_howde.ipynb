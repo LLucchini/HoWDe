{
 "cells": [
  {
   "cell_type": "markdown",
   "id": "5b580359-84a6-474a-bcdf-1f098da8e87f",
   "metadata": {},
   "source": [
    "# __HoWDe__ \n",
    "### _A Home and Work location Detection algorithm for GPS data analytics_\n",
    "\n",
    "This notebook is intended to work as a brief tutorial on how to use \"HoWDe\". It leverages functions contained in `pipeline.py`"
   ]
  },
  {
   "cell_type": "code",
   "execution_count": null,
   "id": "b4dd5a79-6d0a-4463-844d-f995694edcdb",
   "metadata": {
    "scrolled": true
   },
   "outputs": [],
   "source": [
    "%config InlineBackend.figure_format = 'retina'\n",
    "\n",
    "from pyspark.sql import SparkSession\n",
    "from howde import HoWDe_labelling"
   ]
  },
  {
   "cell_type": "code",
   "execution_count": null,
   "id": "b3a3418a",
   "metadata": {},
   "outputs": [],
   "source": [
    "# Initialize Spark session\n",
    "spark = SparkSession.builder.appName('HoWDeApp').getOrCreate()\n",
    "\n",
    "# Load your stop location data\n",
    "input_data = spark.read.parquet('path_to_your_data.parquet')\n"
   ]
  },
  {
   "cell_type": "markdown",
   "id": "386c43d5-5143-4a76-9515-f674297e6962",
   "metadata": {},
   "source": [
    "#### Example 1: Run with default configuration"
   ]
  },
  {
   "cell_type": "code",
   "execution_count": null,
   "id": "6a787a67",
   "metadata": {},
   "outputs": [],
   "source": [
    "labeled_df = HoWDe_labelling(\n",
    "    input_data,\n",
    "    verbose=True\n",
    ")\n",
    "\n",
    "# Save output\n",
    "labeled_df.write.mode(\"overwrite\").parquet(\"output/default_config.parquet\")"
   ]
  },
  {
   "cell_type": "markdown",
   "id": "c645d6c4",
   "metadata": {},
   "source": [
    "#### Example 2: Run with a custom configuration"
   ]
  },
  {
   "cell_type": "code",
   "execution_count": null,
   "id": "ddb93166",
   "metadata": {},
   "outputs": [],
   "source": [
    "labeled_df_custom = HoWDe_labelling(\n",
    "    input_data,\n",
    "    range_window_home=14,\n",
    "    range_window_work=21,\n",
    "    dhn=2,\n",
    "    dn_H=0.5,\n",
    "    dn_W=0.4,\n",
    "    hf_H=0.6,\n",
    "    hf_W=0.3,\n",
    "    df_W=0.5,\n",
    "    output_format=\"stop\",\n",
    "    verbose=True\n",
    ")\n",
    "\n",
    "labeled_df_custom.printSchema()"
   ]
  },
  {
   "cell_type": "markdown",
   "id": "bf22c512",
   "metadata": {},
   "source": [
    "#### Example 3: Run multiple configurations (grid search)"
   ]
  },
  {
   "cell_type": "code",
   "execution_count": null,
   "id": "de018dca",
   "metadata": {
    "scrolled": true
   },
   "outputs": [],
   "source": [
    "labeled_outputs = HoWDe_labelling(\n",
    "    input_data,\n",
    "    range_window_home=28,\n",
    "    range_window_work= 42,\n",
    "    dhn=3,\n",
    "    dn_H=[0.6, 0.7],\n",
    "    dn_W=0.5,\n",
    "    hf_H=[0.5, 0.7],\n",
    "    hf_W=0.4,\n",
    "    df_W=0.6,\n",
    "    output_format=\"stop\",\n",
    "    verbose=True\n",
    ")\n",
    "\n",
    "# Save and inspect results\n",
    "for i, res in enumerate(labeled_outputs):\n",
    "    config = res[\"configs\"]\n",
    "    df = res[\"res\"]\n",
    "    \n",
    "    # Print config\n",
    "    print(f\"\\nConfiguration {i+1}:\")\n",
    "    for k, v in config.items():\n",
    "        print(f\"  {k}: {v}\")\n",
    "    \n",
    "    # Show result preview\n",
    "    print(\"\\nResult sample:\")\n",
    "    df.show(2)\n",
    "\n",
    "    # Save output\n",
    "    save_path = f\"./output/config_{i+1}.parquet\"\n",
    "    df.write.mode(\"overwrite\").parquet(save_path)\n",
    "    print(f\"✅ Saved to: {save_path}\")"
   ]
  },
  {
   "cell_type": "markdown",
   "id": "909f5485",
   "metadata": {},
   "source": [
    "#### Example 4: Use edit_config_default to customize start/end hour work"
   ]
  },
  {
   "cell_type": "code",
   "execution_count": null,
   "id": "60728ce2",
   "metadata": {},
   "outputs": [],
   "source": [
    "custom_config = {\n",
    "        \"is_time_local\": True,  # If True, timestamps in input are already in local time\n",
    "        \"min_stop_t\": 60,  # Minimum duration of a stop in seconds\n",
    "        \"start_hour_day\": 6,  # Start of the 'home hours' interval\n",
    "        \"end_hour_day\": 24,  # End of the 'home hours' interval\n",
    "        \"start_hour_work\": 8,  # Start of the 'work hours' interval >>> UPDATED\n",
    "        \"end_hour_work\": 18,  # End of the 'work hours' interval >>> UPDATED\n",
    "        \"data_for_predict\": False,  # If True, uses past-only data in sliding windows (prediction mode)\n",
    "    }\n",
    "\n",
    "labeled_df_edited = HoWDe_labelling(\n",
    "    input_data,\n",
    "    edit_config_default=custom_config,\n",
    "    range_window_home=28,\n",
    "    range_window_work=42,\n",
    "    output_format=\"stop\"\n",
    ")\n",
    "\n",
    "labeled_df_edited.printSchema()"
   ]
  }
 ],
 "metadata": {
  "kernelspec": {
   "display_name": "Python 3 (ipykernel)",
   "language": "python",
   "name": "python3"
  },
  "language_info": {
   "codemirror_mode": {
    "name": "ipython",
    "version": 3
   },
   "file_extension": ".py",
   "mimetype": "text/x-python",
   "name": "python",
   "nbconvert_exporter": "python",
   "pygments_lexer": "ipython3",
   "version": "3.12.8"
  }
 },
 "nbformat": 4,
 "nbformat_minor": 5
}
